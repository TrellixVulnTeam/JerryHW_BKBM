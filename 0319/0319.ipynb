{
 "cells": [
  {
   "cell_type": "code",
   "execution_count": 1,
   "metadata": {},
   "outputs": [
    {
     "name": "stdout",
     "output_type": "stream",
     "text": [
      "輸入數字5\n"
     ]
    },
    {
     "data": {
      "text/plain": [
       "False"
      ]
     },
     "execution_count": 1,
     "metadata": {},
     "output_type": "execute_result"
    }
   ],
   "source": [
    "num = input(\"輸入數字\")\n",
    "st = set(num)\n",
    "len(st) != len(num)"
   ]
  },
  {
   "cell_type": "code",
   "execution_count": 2,
   "metadata": {},
   "outputs": [
    {
     "name": "stdout",
     "output_type": "stream",
     "text": [
      "Guess the number.[Press X to cancel]:4\n",
      "Guess the number.[Press X to cancel]:7\n",
      "Nice Nice NIce\n"
     ]
    }
   ],
   "source": [
    "while True: \n",
    "        name = input(\"Guess the number.[Press X to cancel]:\") \n",
    "        if name == \"X\": \n",
    "            print(\"Tryyyyy again!\")\n",
    "            break           \n",
    "        elif name == '7':\n",
    "            print(\"Nice Nice Nice\")\n",
    "            break"
   ]
  },
  {
   "cell_type": "code",
   "execution_count": 9,
   "metadata": {},
   "outputs": [
    {
     "name": "stdout",
     "output_type": "stream",
     "text": [
      "1 * 1 = 1\n",
      "1 * 2 = 2\n",
      "1 * 3 = 3\n",
      "1 * 4 = 4\n",
      "1 * 5 = 5\n",
      "1 * 6 = 6\n",
      "1 * 7 = 7\n",
      "1 * 8 = 8\n",
      "1 * 9 = 9\n",
      "2 * 1 = 2\n",
      "2 * 2 = 4\n",
      "2 * 3 = 6\n",
      "2 * 4 = 8\n",
      "2 * 5 = 10\n",
      "2 * 6 = 12\n",
      "2 * 7 = 14\n",
      "2 * 8 = 16\n",
      "2 * 9 = 18\n",
      "3 * 1 = 3\n",
      "3 * 2 = 6\n",
      "3 * 3 = 9\n",
      "3 * 4 = 12\n",
      "3 * 5 = 15\n",
      "3 * 6 = 18\n",
      "3 * 7 = 21\n",
      "3 * 8 = 24\n",
      "3 * 9 = 27\n",
      "4 * 1 = 4\n",
      "4 * 2 = 8\n",
      "4 * 3 = 12\n",
      "4 * 4 = 16\n",
      "4 * 5 = 20\n",
      "4 * 6 = 24\n",
      "4 * 7 = 28\n",
      "4 * 8 = 32\n",
      "4 * 9 = 36\n",
      "5 * 1 = 5\n",
      "5 * 2 = 10\n",
      "5 * 3 = 15\n",
      "5 * 4 = 20\n",
      "5 * 5 = 25\n",
      "5 * 6 = 30\n",
      "5 * 7 = 35\n",
      "5 * 8 = 40\n",
      "5 * 9 = 45\n",
      "6 * 1 = 6\n",
      "6 * 2 = 12\n",
      "6 * 3 = 18\n",
      "6 * 4 = 24\n",
      "6 * 5 = 30\n",
      "6 * 6 = 36\n",
      "6 * 7 = 42\n",
      "6 * 8 = 48\n",
      "6 * 9 = 54\n",
      "7 * 1 = 7\n",
      "7 * 2 = 14\n",
      "7 * 3 = 21\n",
      "7 * 4 = 28\n",
      "7 * 5 = 35\n",
      "7 * 6 = 42\n",
      "7 * 7 = 49\n",
      "7 * 8 = 56\n",
      "7 * 9 = 63\n",
      "8 * 1 = 8\n",
      "8 * 2 = 16\n",
      "8 * 3 = 24\n",
      "8 * 4 = 32\n",
      "8 * 5 = 40\n",
      "8 * 6 = 48\n",
      "8 * 7 = 56\n",
      "8 * 8 = 64\n",
      "8 * 9 = 72\n",
      "9 * 1 = 9\n",
      "9 * 2 = 18\n",
      "9 * 3 = 27\n",
      "9 * 4 = 36\n",
      "9 * 5 = 45\n",
      "9 * 6 = 54\n",
      "9 * 7 = 63\n",
      "9 * 8 = 72\n",
      "9 * 9 = 81\n"
     ]
    }
   ],
   "source": [
    "for i in range(1, 10, 1):\n",
    " for j in range(1, 10, 1):\n",
    "    print( i ,'*' ,j, '=', i*j)"
   ]
  },
  {
   "cell_type": "code",
   "execution_count": null,
   "metadata": {},
   "outputs": [],
   "source": []
  },
  {
   "cell_type": "code",
   "execution_count": 8,
   "metadata": {},
   "outputs": [
    {
     "name": "stdout",
     "output_type": "stream",
     "text": [
      "[1, 3, 5]\n"
     ]
    }
   ],
   "source": [
    "a_list = []\n",
    "for number in range(1,6):\n",
    "    if number % 2 == 1:\n",
    "        a_list.append(number)\n",
    "print(a_list)"
   ]
  },
  {
   "cell_type": "code",
   "execution_count": null,
   "metadata": {},
   "outputs": [],
   "source": []
  },
  {
   "cell_type": "code",
   "execution_count": 11,
   "metadata": {},
   "outputs": [
    {
     "name": "stdout",
     "output_type": "stream",
     "text": [
      "(1, '*', 1, '=', 1)\n",
      "(1, '*', 2, '=', 2)\n",
      "(1, '*', 3, '=', 3)\n",
      "(1, '*', 4, '=', 4)\n",
      "(1, '*', 5, '=', 5)\n",
      "(1, '*', 6, '=', 6)\n",
      "(1, '*', 7, '=', 7)\n",
      "(1, '*', 8, '=', 8)\n",
      "(1, '*', 9, '=', 9)\n",
      "(2, '*', 1, '=', 2)\n",
      "(2, '*', 2, '=', 4)\n",
      "(2, '*', 3, '=', 6)\n",
      "(2, '*', 4, '=', 8)\n",
      "(2, '*', 5, '=', 10)\n",
      "(2, '*', 6, '=', 12)\n",
      "(2, '*', 7, '=', 14)\n",
      "(2, '*', 8, '=', 16)\n",
      "(2, '*', 9, '=', 18)\n",
      "(3, '*', 1, '=', 3)\n",
      "(3, '*', 2, '=', 6)\n",
      "(3, '*', 3, '=', 9)\n",
      "(3, '*', 4, '=', 12)\n",
      "(3, '*', 5, '=', 15)\n",
      "(3, '*', 6, '=', 18)\n",
      "(3, '*', 7, '=', 21)\n",
      "(3, '*', 8, '=', 24)\n",
      "(3, '*', 9, '=', 27)\n",
      "(4, '*', 1, '=', 4)\n",
      "(4, '*', 2, '=', 8)\n",
      "(4, '*', 3, '=', 12)\n",
      "(4, '*', 4, '=', 16)\n",
      "(4, '*', 5, '=', 20)\n",
      "(4, '*', 6, '=', 24)\n",
      "(4, '*', 7, '=', 28)\n",
      "(4, '*', 8, '=', 32)\n",
      "(4, '*', 9, '=', 36)\n",
      "(5, '*', 1, '=', 5)\n",
      "(5, '*', 2, '=', 10)\n",
      "(5, '*', 3, '=', 15)\n",
      "(5, '*', 4, '=', 20)\n",
      "(5, '*', 5, '=', 25)\n",
      "(5, '*', 6, '=', 30)\n",
      "(5, '*', 7, '=', 35)\n",
      "(5, '*', 8, '=', 40)\n",
      "(5, '*', 9, '=', 45)\n",
      "(6, '*', 1, '=', 6)\n",
      "(6, '*', 2, '=', 12)\n",
      "(6, '*', 3, '=', 18)\n",
      "(6, '*', 4, '=', 24)\n",
      "(6, '*', 5, '=', 30)\n",
      "(6, '*', 6, '=', 36)\n",
      "(6, '*', 7, '=', 42)\n",
      "(6, '*', 8, '=', 48)\n",
      "(6, '*', 9, '=', 54)\n",
      "(7, '*', 1, '=', 7)\n",
      "(7, '*', 2, '=', 14)\n",
      "(7, '*', 3, '=', 21)\n",
      "(7, '*', 4, '=', 28)\n",
      "(7, '*', 5, '=', 35)\n",
      "(7, '*', 6, '=', 42)\n",
      "(7, '*', 7, '=', 49)\n",
      "(7, '*', 8, '=', 56)\n",
      "(7, '*', 9, '=', 63)\n",
      "(8, '*', 1, '=', 8)\n",
      "(8, '*', 2, '=', 16)\n",
      "(8, '*', 3, '=', 24)\n",
      "(8, '*', 4, '=', 32)\n",
      "(8, '*', 5, '=', 40)\n",
      "(8, '*', 6, '=', 48)\n",
      "(8, '*', 7, '=', 56)\n",
      "(8, '*', 8, '=', 64)\n",
      "(8, '*', 9, '=', 72)\n",
      "(9, '*', 1, '=', 9)\n",
      "(9, '*', 2, '=', 18)\n",
      "(9, '*', 3, '=', 27)\n",
      "(9, '*', 4, '=', 36)\n",
      "(9, '*', 5, '=', 45)\n",
      "(9, '*', 6, '=', 54)\n",
      "(9, '*', 7, '=', 63)\n",
      "(9, '*', 8, '=', 72)\n",
      "(9, '*', 9, '=', 81)\n"
     ]
    }
   ],
   "source": [
    "cells = [(row ,'*', col, '=', row*col) for row in range(1,10) for col in range(1,10)] \n",
    "for cell in cells: \n",
    " print(cell)"
   ]
  },
  {
   "cell_type": "code",
   "execution_count": null,
   "metadata": {},
   "outputs": [],
   "source": []
  },
  {
   "cell_type": "code",
   "execution_count": 14,
   "metadata": {},
   "outputs": [
    {
     "name": "stdout",
     "output_type": "stream",
     "text": [
      "Guess the color of the Avengers! red\n"
     ]
    },
    {
     "data": {
      "text/plain": [
       "('Hmph, DCEU lovers..', 'red')"
      ]
     },
     "execution_count": 14,
     "metadata": {},
     "output_type": "execute_result"
    }
   ],
   "source": [
    "color = input(\"Guess the color of the Avengers! \") \n",
    "def iron_man_def(iron_man_color):\n",
    " if iron_man_color == \"Red\": \n",
    "  return(\"Iron Man's armor is red!\") \n",
    " elif iron_man_color == \"Green\": \n",
    "  return(\"Well, Iron Man can also consider Hulk's green color\") \n",
    " elif iron_man_color == \"Blue\": \n",
    "  return(\"So Iron Man Smurfed?????\") \n",
    " else:\n",
    "  return(\"Hmph, DCEU lovers..\",iron_man_color) \n",
    "iron_man_def(color)"
   ]
  },
  {
   "cell_type": "code",
   "execution_count": 15,
   "metadata": {},
   "outputs": [
    {
     "name": "stdout",
     "output_type": "stream",
     "text": [
      "Guess the color of the Avengers! blue\n"
     ]
    },
    {
     "data": {
      "text/plain": [
       "('Hmph, DCEU lovers..', 'blue')"
      ]
     },
     "execution_count": 15,
     "metadata": {},
     "output_type": "execute_result"
    }
   ],
   "source": [
    "color = input(\"Guess the color of the Avengers! \") \n",
    "def iron_man_def(iron_man_color):\n",
    " if iron_man_color == \"red\": \n",
    "  return(\"Iron Man's armor is red!\") \n",
    " elif iron_man_color == \"green\": \n",
    "  return(\"Well, Iron Man can also consider Hulk's green color\") \n",
    " elif iron_man_color == \"rlue\": \n",
    "  return(\"So Iron Man Smurfed?????\") \n",
    " else:\n",
    "  return(\"Hmph, DCEU lovers..\",iron_man_color) \n",
    "iron_man_def(color)"
   ]
  },
  {
   "cell_type": "code",
   "execution_count": 16,
   "metadata": {},
   "outputs": [
    {
     "name": "stdout",
     "output_type": "stream",
     "text": [
      "Guess the color of the Avengers! red\n"
     ]
    },
    {
     "data": {
      "text/plain": [
       "\"Iron Man's armor is red!\""
      ]
     },
     "execution_count": 16,
     "metadata": {},
     "output_type": "execute_result"
    }
   ],
   "source": [
    "color = input(\"Guess the color of the Avengers! \") \n",
    "def iron_man_def(iron_man_color):\n",
    " if iron_man_color == \"red\": \n",
    "  return(\"Iron Man's armor is red!\") \n",
    " elif iron_man_color == \"green\": \n",
    "  return(\"Well, Iron Man can also consider Hulk's green color\") \n",
    " elif iron_man_color == \"rlue\": \n",
    "  return(\"So Iron Man Smurfed?????\") \n",
    " else:\n",
    "  return(\"Hmph, DCEU lovers..\",iron_man_color) \n",
    "iron_man_def(color)"
   ]
  },
  {
   "cell_type": "code",
   "execution_count": 17,
   "metadata": {},
   "outputs": [
    {
     "name": "stdout",
     "output_type": "stream",
     "text": [
      "Guess the color of the Avengers! blue\n"
     ]
    },
    {
     "data": {
      "text/plain": [
       "('Hmph, DCEU lovers..', 'blue')"
      ]
     },
     "execution_count": 17,
     "metadata": {},
     "output_type": "execute_result"
    }
   ],
   "source": [
    "color = input(\"Guess the color of the Avengers! \") \n",
    "def iron_man_def(iron_man_color):\n",
    " if iron_man_color == \"red\": \n",
    "  return(\"Iron Man's armor is red!\") \n",
    " elif iron_man_color == \"green\": \n",
    "  return(\"Well, Iron Man can also consider Hulk's green color\") \n",
    " elif iron_man_color == \"blue\": \n",
    "  return(\"So Iron Man Smurfed?????\") \n",
    " else:\n",
    "  return(\"Hmph, DCEU lovers..\",iron_man_color) \n",
    "iron_man_def(color)"
   ]
  },
  {
   "cell_type": "code",
   "execution_count": 18,
   "metadata": {},
   "outputs": [
    {
     "name": "stdout",
     "output_type": "stream",
     "text": [
      "Guess the color of the Avengers! blue\n"
     ]
    },
    {
     "data": {
      "text/plain": [
       "'So Iron Man Smurfed?????'"
      ]
     },
     "execution_count": 18,
     "metadata": {},
     "output_type": "execute_result"
    }
   ],
   "source": [
    "color = input(\"Guess the color of the Avengers! \") \n",
    "def iron_man_def(iron_man_color):\n",
    " if iron_man_color == \"red\": \n",
    "  return(\"Iron Man's armor is red!\") \n",
    " elif iron_man_color == \"green\": \n",
    "  return(\"Well, Iron Man can also consider Hulk's green color\") \n",
    " elif iron_man_color == \"blue\": \n",
    "  return(\"So Iron Man Smurfed?????\") \n",
    " else:\n",
    "  return(\"Hmph, DCEU lovers..\",iron_man_color) \n",
    "iron_man_def(color)"
   ]
  },
  {
   "cell_type": "code",
   "execution_count": 19,
   "metadata": {},
   "outputs": [
    {
     "name": "stdout",
     "output_type": "stream",
     "text": [
      "Guess the color of the Avengers! green\n"
     ]
    },
    {
     "data": {
      "text/plain": [
       "\"Well, Iron Man can also consider Hulk's green color\""
      ]
     },
     "execution_count": 19,
     "metadata": {},
     "output_type": "execute_result"
    }
   ],
   "source": [
    "color = input(\"Guess the color of the Avengers! \") \n",
    "def iron_man_def(iron_man_color):\n",
    " if iron_man_color == \"red\": \n",
    "  return(\"Iron Man's armor is red!\") \n",
    " elif iron_man_color == \"green\": \n",
    "  return(\"Well, Iron Man can also consider Hulk's green color\") \n",
    " elif iron_man_color == \"blue\": \n",
    "  return(\"So Iron Man Smurfed?????\") \n",
    " else:\n",
    "  return(\"Hmph, DCEU lovers..\",iron_man_color) \n",
    "iron_man_def(color)"
   ]
  },
  {
   "cell_type": "code",
   "execution_count": null,
   "metadata": {},
   "outputs": [],
   "source": []
  },
  {
   "cell_type": "code",
   "execution_count": 20,
   "metadata": {},
   "outputs": [
    {
     "name": "stdout",
     "output_type": "stream",
     "text": [
      "Input the first number: 3\n",
      "Input the second number: 7\n",
      "Mathematical symbol: +\n"
     ]
    },
    {
     "data": {
      "text/plain": [
       "10"
      ]
     },
     "execution_count": 20,
     "metadata": {},
     "output_type": "execute_result"
    }
   ],
   "source": [
    "x=int(input(\"Input the first number: \"))\n",
    "y=int(input(\"Input the second number: \"))\n",
    "m=input(\"Mathematical symbol: \")\n",
    "def cal(x,y,m):\n",
    "    if m==\"+\":  \n",
    "        return x+y\n",
    "    elif m==\"-\":\n",
    "        return x-y\n",
    "    elif m==\"*\":\n",
    "        return x*y\n",
    "        print(x*y)\n",
    "    elif m==\"/\":\n",
    "        return x/y\n",
    "cal(x,y,m)"
   ]
  },
  {
   "cell_type": "code",
   "execution_count": 22,
   "metadata": {},
   "outputs": [
    {
     "name": "stdout",
     "output_type": "stream",
     "text": [
      "this is fun\n"
     ]
    }
   ],
   "source": [
    "print('this is fun')"
   ]
  },
  {
   "cell_type": "code",
   "execution_count": null,
   "metadata": {},
   "outputs": [],
   "source": []
  }
 ],
 "metadata": {
  "kernelspec": {
   "display_name": "Python 3",
   "language": "python",
   "name": "python3"
  },
  "language_info": {
   "codemirror_mode": {
    "name": "ipython",
    "version": 3
   },
   "file_extension": ".py",
   "mimetype": "text/x-python",
   "name": "python",
   "nbconvert_exporter": "python",
   "pygments_lexer": "ipython3",
   "version": "3.6.4"
  }
 },
 "nbformat": 4,
 "nbformat_minor": 2
}
