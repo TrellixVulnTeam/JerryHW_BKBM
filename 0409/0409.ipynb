{
 "cells": [
  {
   "cell_type": "markdown",
   "metadata": {},
   "source": [
    "###### 1"
   ]
  },
  {
   "cell_type": "code",
   "execution_count": 4,
   "metadata": {},
   "outputs": [
    {
     "name": "stdout",
     "output_type": "stream",
     "text": [
      "Restaurant Name:  Ding Tai Fung\n",
      " Type of Cuisine:  Taiwanese Cuisine\n"
     ]
    }
   ],
   "source": []
  },
  {
   "cell_type": "code",
   "execution_count": 12,
   "metadata": {},
   "outputs": [
    {
     "name": "stdout",
     "output_type": "stream",
     "text": [
      "Restaurant Name:  Ding Tai Fung\n",
      " Type of Cuisine:  Taiwanese Cuisine\n",
      "I love to eat： \n",
      "Mango\n",
      "Strawberry\n",
      "Durian\n"
     ]
    }
   ],
   "source": [
    "class restaurant():\n",
    "    def __init__(self, name, cuisine):\n",
    "        self.name = name \n",
    "        self.cuisine = cuisine\n",
    "        \n",
    "    def describe_restaurant(self):\n",
    "        print(\"Restaurant Name: \", self.name, \"Type of Cuisine: \", self.cuisine)\n",
    "        \n",
    "master_chef = sundae(\"Ding Tai Fung\\n\", \"Taiwanese Cuisine\")\n",
    "master_chef.describe_restaurant()\n",
    "\n",
    "\n",
    "class sundae(restaurant):\n",
    "    def red_velvet(self):\n",
    "        flavors = [\"Mango\",\"Strawberry\",\"Durian\"]\n",
    "        print(\"I love to eat： \")\n",
    "        for i in range(0,3):\n",
    "            print(flavors[i])\n",
    "\n",
    "\n",
    "master_chef.red_velvet()"
   ]
  },
  {
   "cell_type": "code",
   "execution_count": null,
   "metadata": {},
   "outputs": [],
   "source": []
  },
  {
   "cell_type": "markdown",
   "metadata": {},
   "source": [
    "#### hw2"
   ]
  },
  {
   "cell_type": "code",
   "execution_count": 25,
   "metadata": {},
   "outputs": [
    {
     "name": "stdout",
     "output_type": "stream",
     "text": [
      "go A go!\n",
      "go A go!\n",
      "go B go!\n",
      "go A go!\n",
      "go C go!\n",
      "go A go!\n",
      "go C go!\n",
      "go B go!\n",
      "go D go!\n",
      "go A go!\n",
      "go C go!\n",
      "go B go!\n",
      "stop A stop!\n",
      "stop A stop!\n",
      "stop A stop!\n",
      "stop C stop!\n",
      "stop A stop!\n",
      "stop C stop!\n",
      "stop D stop!\n",
      "stop A stop!\n",
      "stop C stop!\n"
     ]
    },
    {
     "ename": "Exception",
     "evalue": "Not Implemented",
     "output_type": "error",
     "traceback": [
      "\u001b[1;31m---------------------------------------------------------------------------\u001b[0m",
      "\u001b[1;31mException\u001b[0m                                 Traceback (most recent call last)",
      "\u001b[1;32m<ipython-input-25-422eed2b04cd>\u001b[0m in \u001b[0;36m<module>\u001b[1;34m()\u001b[0m\n\u001b[0;32m     61\u001b[0m \u001b[1;33m\u001b[0m\u001b[0m\n\u001b[0;32m     62\u001b[0m \u001b[1;33m\u001b[0m\u001b[0m\n\u001b[1;32m---> 63\u001b[1;33m \u001b[0ma\u001b[0m\u001b[1;33m.\u001b[0m\u001b[0mpause\u001b[0m\u001b[1;33m(\u001b[0m\u001b[1;33m)\u001b[0m\u001b[1;33m\u001b[0m\u001b[0m\n\u001b[0m\u001b[0;32m     64\u001b[0m \u001b[0mb\u001b[0m\u001b[1;33m.\u001b[0m\u001b[0mpause\u001b[0m\u001b[1;33m(\u001b[0m\u001b[1;33m)\u001b[0m\u001b[1;33m\u001b[0m\u001b[0m\n\u001b[0;32m     65\u001b[0m \u001b[0mc\u001b[0m\u001b[1;33m.\u001b[0m\u001b[0mpause\u001b[0m\u001b[1;33m(\u001b[0m\u001b[1;33m)\u001b[0m\u001b[1;33m\u001b[0m\u001b[0m\n",
      "\u001b[1;32m<ipython-input-25-422eed2b04cd>\u001b[0m in \u001b[0;36mpause\u001b[1;34m(self)\u001b[0m\n\u001b[0;32m      7\u001b[0m \u001b[1;33m\u001b[0m\u001b[0m\n\u001b[0;32m      8\u001b[0m     \u001b[1;32mdef\u001b[0m \u001b[0mpause\u001b[0m\u001b[1;33m(\u001b[0m\u001b[0mself\u001b[0m\u001b[1;33m)\u001b[0m\u001b[1;33m:\u001b[0m\u001b[1;33m\u001b[0m\u001b[0m\n\u001b[1;32m----> 9\u001b[1;33m         \u001b[1;32mraise\u001b[0m \u001b[0mException\u001b[0m\u001b[1;33m(\u001b[0m\u001b[1;34m\"Not Implemented\"\u001b[0m\u001b[1;33m)\u001b[0m\u001b[1;33m\u001b[0m\u001b[0m\n\u001b[0m\u001b[0;32m     10\u001b[0m \u001b[1;33m\u001b[0m\u001b[0m\n\u001b[0;32m     11\u001b[0m \u001b[1;33m\u001b[0m\u001b[0m\n",
      "\u001b[1;31mException\u001b[0m: Not Implemented"
     ]
    }
   ],
   "source": [
    "class A(object):\n",
    "    def go(self):\n",
    "        print (\"go A go!\") \n",
    "        \n",
    "    def stop(self): \n",
    "        print (\"stop A stop!\")\n",
    "        \n",
    "    def pause(self):\n",
    "        raise Exception(\"Not Implemented\")\n",
    "        \n",
    "        \n",
    "class B(A):\n",
    "    def go(self):\n",
    "        super(B, self).go() \n",
    "        print (\"go B go!\")\n",
    "\n",
    "\n",
    "class C(A): \n",
    "    def go(self): \n",
    "        super(C, self).go() \n",
    "        print (\"go C go!\")\n",
    "        \n",
    "    def stop(self): \n",
    "        super(C, self).stop()\n",
    "        print (\"stop C stop!\") \n",
    "\n",
    "        \n",
    "class D(B,C): \n",
    "    def go(self): \n",
    "        super(D, self).go() \n",
    "        print (\"go D go!\")\n",
    "        \n",
    "    def stop(self): \n",
    "        super(D, self).stop()\n",
    "        print (\"stop D stop!\") \n",
    "        \n",
    "    def pause(self): \n",
    "        print (\"wait D wait!\") \n",
    "\n",
    "class E(B,C):\n",
    "    pass\n",
    "\n",
    "a = A()\n",
    "b = B()\n",
    "c = C()\n",
    "d = D()\n",
    "e = E()\n",
    "\n",
    "a.go() \n",
    "b.go() \n",
    "c.go() \n",
    "d.go() \n",
    "e.go() \n",
    "\n",
    "\n",
    "a.stop() \n",
    "b.stop() \n",
    "c.stop() \n",
    "d.stop() \n",
    "e.stop() \n",
    "\n",
    "\n",
    "a.pause() \n",
    "b.pause() \n",
    "c.pause() \n",
    "d.pause() \n",
    "e.pause()"
   ]
  },
  {
   "cell_type": "code",
   "execution_count": null,
   "metadata": {},
   "outputs": [],
   "source": []
  },
  {
   "cell_type": "markdown",
   "metadata": {},
   "source": [
    "### hw3"
   ]
  },
  {
   "cell_type": "code",
   "execution_count": null,
   "metadata": {},
   "outputs": [],
   "source": []
  }
 ],
 "metadata": {
  "kernelspec": {
   "display_name": "Python 3",
   "language": "python",
   "name": "python3"
  },
  "language_info": {
   "codemirror_mode": {
    "name": "ipython",
    "version": 3
   },
   "file_extension": ".py",
   "mimetype": "text/x-python",
   "name": "python",
   "nbconvert_exporter": "python",
   "pygments_lexer": "ipython3",
   "version": "3.6.4"
  }
 },
 "nbformat": 4,
 "nbformat_minor": 2
}
